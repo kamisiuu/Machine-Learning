{
 "cells": [
  {
   "cell_type": "code",
   "execution_count": 2,
   "metadata": {},
   "outputs": [
    {
     "name": "stderr",
     "output_type": "stream",
     "text": [
      "Warning message:\n",
      "\"package 'C50' was built under R version 3.4.3\"Warning message:\n",
      "\"package 'randomForest' was built under R version 3.4.3\"randomForest 4.6-12\n",
      "Type rfNews() to see new features/changes/bug fixes.\n"
     ]
    }
   ],
   "source": [
    "# Library & prepare training, testing data\n",
    "library(C50)\n",
    "colClasses=c(\"integer\", \"factor\", \"integer\", \"factor\", \"integer\", \"factor\", \"factor\", \"factor\", \"factor\", \"factor\",\n",
    "             \"integer\", \"integer\", \"integer\", \"factor\", \"factor\")\n",
    "\n",
    "url_train <- \"http://archive.ics.uci.edu/ml/machine-learning-databases/adult/adult.data\"\n",
    "data_train <- read.table( file=url_train, header=FALSE, colClasses=colClasses, sep=\",\", strip.white=TRUE )\n",
    "\n",
    "url_test <- \"http://archive.ics.uci.edu/ml/machine-learning-databases/adult/adult.test\"\n",
    "data_test <- read.table( file=url_test, skip=1, header=FALSE, colClasses=colClasses, sep=\",\", strip.white=TRUE)\n",
    "\n",
    "#remove trailing dot\n",
    "data_test[,15] <- factor(sub(\"\\\\.\", \"\", data_test[,15]))\n",
    "\n"
   ]
  },
  {
   "cell_type": "code",
   "execution_count": 3,
   "metadata": {},
   "outputs": [
    {
     "data": {
      "text/html": [
       "<table>\n",
       "<thead><tr><th scope=col>V1</th><th scope=col>V2</th><th scope=col>V3</th><th scope=col>V4</th><th scope=col>V5</th><th scope=col>V6</th><th scope=col>V7</th><th scope=col>V8</th><th scope=col>V9</th><th scope=col>V10</th><th scope=col>V11</th><th scope=col>V12</th><th scope=col>V13</th><th scope=col>V14</th><th scope=col>V15</th></tr></thead>\n",
       "<tbody>\n",
       "\t<tr><td>39                                                        </td><td><span style=white-space:pre-wrap>State-gov       </span>  </td><td> 77516                                                    </td><td>Bachelors                                                 </td><td>13                                                        </td><td><span style=white-space:pre-wrap>Never-married     </span></td><td><span style=white-space:pre-wrap>Adm-clerical     </span> </td><td>Not-in-family                                             </td><td>White                                                     </td><td><span style=white-space:pre-wrap>Male  </span>            </td><td>2174                                                      </td><td>0                                                         </td><td>40                                                        </td><td>United-States                                             </td><td>&lt;=50K                                                  </td></tr>\n",
       "\t<tr><td>50                                                       </td><td>Self-emp-not-inc                                         </td><td> 83311                                                   </td><td>Bachelors                                                </td><td>13                                                       </td><td>Married-civ-spouse                                       </td><td><span style=white-space:pre-wrap>Exec-managerial  </span></td><td><span style=white-space:pre-wrap>Husband      </span>    </td><td>White                                                    </td><td><span style=white-space:pre-wrap>Male  </span>           </td><td><span style=white-space:pre-wrap>   0</span>             </td><td>0                                                        </td><td>13                                                       </td><td>United-States                                            </td><td>&lt;=50K                                                 </td></tr>\n",
       "\t<tr><td>38                                                        </td><td><span style=white-space:pre-wrap>Private         </span>  </td><td>215646                                                    </td><td><span style=white-space:pre-wrap>HS-grad  </span>         </td><td> 9                                                        </td><td><span style=white-space:pre-wrap>Divorced          </span></td><td>Handlers-cleaners                                         </td><td>Not-in-family                                             </td><td>White                                                     </td><td><span style=white-space:pre-wrap>Male  </span>            </td><td><span style=white-space:pre-wrap>   0</span>              </td><td>0                                                         </td><td>40                                                        </td><td>United-States                                             </td><td>&lt;=50K                                                  </td></tr>\n",
       "\t<tr><td>53                                                      </td><td><span style=white-space:pre-wrap>Private         </span></td><td>234721                                                  </td><td><span style=white-space:pre-wrap>11th     </span>       </td><td> 7                                                      </td><td>Married-civ-spouse                                      </td><td>Handlers-cleaners                                       </td><td><span style=white-space:pre-wrap>Husband      </span>   </td><td>Black                                                   </td><td><span style=white-space:pre-wrap>Male  </span>          </td><td><span style=white-space:pre-wrap>   0</span>            </td><td>0                                                       </td><td>40                                                      </td><td>United-States                                           </td><td>&lt;=50K                                                </td></tr>\n",
       "\t<tr><td>28                                                       </td><td><span style=white-space:pre-wrap>Private         </span> </td><td>338409                                                   </td><td>Bachelors                                                </td><td>13                                                       </td><td>Married-civ-spouse                                       </td><td><span style=white-space:pre-wrap>Prof-specialty   </span></td><td><span style=white-space:pre-wrap>Wife         </span>    </td><td>Black                                                    </td><td>Female                                                   </td><td><span style=white-space:pre-wrap>   0</span>             </td><td>0                                                        </td><td>40                                                       </td><td><span style=white-space:pre-wrap>Cuba         </span>    </td><td>&lt;=50K                                                 </td></tr>\n",
       "</tbody>\n",
       "</table>\n"
      ],
      "text/latex": [
       "\\begin{tabular}{r|lllllllllllllll}\n",
       " V1 & V2 & V3 & V4 & V5 & V6 & V7 & V8 & V9 & V10 & V11 & V12 & V13 & V14 & V15\\\\\n",
       "\\hline\n",
       "\t 39                 & State-gov          &  77516             & Bachelors          & 13                 & Never-married      & Adm-clerical       & Not-in-family      & White              & Male               & 2174               & 0                  & 40                 & United-States      & <=50K             \\\\\n",
       "\t 50                 & Self-emp-not-inc   &  83311             & Bachelors          & 13                 & Married-civ-spouse & Exec-managerial    & Husband            & White              & Male               &    0               & 0                  & 13                 & United-States      & <=50K             \\\\\n",
       "\t 38                 & Private            & 215646             & HS-grad            &  9                 & Divorced           & Handlers-cleaners  & Not-in-family      & White              & Male               &    0               & 0                  & 40                 & United-States      & <=50K             \\\\\n",
       "\t 53                 & Private            & 234721             & 11th               &  7                 & Married-civ-spouse & Handlers-cleaners  & Husband            & Black              & Male               &    0               & 0                  & 40                 & United-States      & <=50K             \\\\\n",
       "\t 28                 & Private            & 338409             & Bachelors          & 13                 & Married-civ-spouse & Prof-specialty     & Wife               & Black              & Female             &    0               & 0                  & 40                 & Cuba               & <=50K             \\\\\n",
       "\\end{tabular}\n"
      ],
      "text/markdown": [
       "\n",
       "V1 | V2 | V3 | V4 | V5 | V6 | V7 | V8 | V9 | V10 | V11 | V12 | V13 | V14 | V15 | \n",
       "|---|---|---|---|---|\n",
       "| 39                 | State-gov          |  77516             | Bachelors          | 13                 | Never-married      | Adm-clerical       | Not-in-family      | White              | Male               | 2174               | 0                  | 40                 | United-States      | <=50K              | \n",
       "| 50                 | Self-emp-not-inc   |  83311             | Bachelors          | 13                 | Married-civ-spouse | Exec-managerial    | Husband            | White              | Male               |    0               | 0                  | 13                 | United-States      | <=50K              | \n",
       "| 38                 | Private            | 215646             | HS-grad            |  9                 | Divorced           | Handlers-cleaners  | Not-in-family      | White              | Male               |    0               | 0                  | 40                 | United-States      | <=50K              | \n",
       "| 53                 | Private            | 234721             | 11th               |  7                 | Married-civ-spouse | Handlers-cleaners  | Husband            | Black              | Male               |    0               | 0                  | 40                 | United-States      | <=50K              | \n",
       "| 28                 | Private            | 338409             | Bachelors          | 13                 | Married-civ-spouse | Prof-specialty     | Wife               | Black              | Female             |    0               | 0                  | 40                 | Cuba               | <=50K              | \n",
       "\n",
       "\n"
      ],
      "text/plain": [
       "  V1 V2               V3     V4        V5 V6                 V7               \n",
       "1 39 State-gov         77516 Bachelors 13 Never-married      Adm-clerical     \n",
       "2 50 Self-emp-not-inc  83311 Bachelors 13 Married-civ-spouse Exec-managerial  \n",
       "3 38 Private          215646 HS-grad    9 Divorced           Handlers-cleaners\n",
       "4 53 Private          234721 11th       7 Married-civ-spouse Handlers-cleaners\n",
       "5 28 Private          338409 Bachelors 13 Married-civ-spouse Prof-specialty   \n",
       "  V8            V9    V10    V11  V12 V13 V14           V15  \n",
       "1 Not-in-family White Male   2174 0   40  United-States <=50K\n",
       "2 Husband       White Male      0 0   13  United-States <=50K\n",
       "3 Not-in-family White Male      0 0   40  United-States <=50K\n",
       "4 Husband       Black Male      0 0   40  United-States <=50K\n",
       "5 Wife          Black Female    0 0   40  Cuba          <=50K"
      ]
     },
     "metadata": {},
     "output_type": "display_data"
    },
    {
     "data": {
      "text/html": [
       "<table>\n",
       "<thead><tr><th scope=col>V1</th><th scope=col>V2</th><th scope=col>V3</th><th scope=col>V4</th><th scope=col>V5</th><th scope=col>V6</th><th scope=col>V7</th><th scope=col>V8</th><th scope=col>V9</th><th scope=col>V10</th><th scope=col>V11</th><th scope=col>V12</th><th scope=col>V13</th><th scope=col>V14</th><th scope=col>V15</th></tr></thead>\n",
       "<tbody>\n",
       "\t<tr><td>25                                                        </td><td><span style=white-space:pre-wrap>Private  </span>         </td><td>226802                                                    </td><td><span style=white-space:pre-wrap>11th        </span>      </td><td> 7                                                        </td><td><span style=white-space:pre-wrap>Never-married     </span></td><td>Machine-op-inspct                                         </td><td>Own-child                                                 </td><td>Black                                                     </td><td><span style=white-space:pre-wrap>Male  </span>            </td><td><span style=white-space:pre-wrap>   0</span>              </td><td>0                                                         </td><td>40                                                        </td><td>United-States                                             </td><td>&lt;=50K                                                  </td></tr>\n",
       "\t<tr><td>38                                                       </td><td><span style=white-space:pre-wrap>Private  </span>        </td><td> 89814                                                   </td><td><span style=white-space:pre-wrap>HS-grad     </span>     </td><td> 9                                                       </td><td>Married-civ-spouse                                       </td><td><span style=white-space:pre-wrap>Farming-fishing  </span></td><td><span style=white-space:pre-wrap>Husband  </span>        </td><td>White                                                    </td><td><span style=white-space:pre-wrap>Male  </span>           </td><td><span style=white-space:pre-wrap>   0</span>             </td><td>0                                                        </td><td>50                                                       </td><td>United-States                                            </td><td>&lt;=50K                                                 </td></tr>\n",
       "\t<tr><td>28                                                       </td><td>Local-gov                                                </td><td>336951                                                   </td><td><span style=white-space:pre-wrap>Assoc-acdm  </span>     </td><td>12                                                       </td><td>Married-civ-spouse                                       </td><td><span style=white-space:pre-wrap>Protective-serv  </span></td><td><span style=white-space:pre-wrap>Husband  </span>        </td><td>White                                                    </td><td><span style=white-space:pre-wrap>Male  </span>           </td><td><span style=white-space:pre-wrap>   0</span>             </td><td>0                                                        </td><td>40                                                       </td><td>United-States                                            </td><td>&gt;50K                                                  </td></tr>\n",
       "\t<tr><td>44                                               </td><td><span style=white-space:pre-wrap>Private  </span></td><td>160323                                           </td><td>Some-college                                     </td><td>10                                               </td><td>Married-civ-spouse                               </td><td>Machine-op-inspct                                </td><td><span style=white-space:pre-wrap>Husband  </span></td><td>Black                                            </td><td><span style=white-space:pre-wrap>Male  </span>   </td><td>7688                                             </td><td>0                                                </td><td>40                                               </td><td>United-States                                    </td><td>&gt;50K                                          </td></tr>\n",
       "\t<tr><td>18                                                        </td><td><span style=white-space:pre-wrap>?        </span>         </td><td>103497                                                    </td><td>Some-college                                              </td><td>10                                                        </td><td><span style=white-space:pre-wrap>Never-married     </span></td><td><span style=white-space:pre-wrap>?                </span> </td><td>Own-child                                                 </td><td>White                                                     </td><td>Female                                                    </td><td><span style=white-space:pre-wrap>   0</span>              </td><td>0                                                         </td><td>30                                                        </td><td>United-States                                             </td><td>&lt;=50K                                                  </td></tr>\n",
       "</tbody>\n",
       "</table>\n"
      ],
      "text/latex": [
       "\\begin{tabular}{r|lllllllllllllll}\n",
       " V1 & V2 & V3 & V4 & V5 & V6 & V7 & V8 & V9 & V10 & V11 & V12 & V13 & V14 & V15\\\\\n",
       "\\hline\n",
       "\t 25                 & Private            & 226802             & 11th               &  7                 & Never-married      & Machine-op-inspct  & Own-child          & Black              & Male               &    0               & 0                  & 40                 & United-States      & <=50K             \\\\\n",
       "\t 38                 & Private            &  89814             & HS-grad            &  9                 & Married-civ-spouse & Farming-fishing    & Husband            & White              & Male               &    0               & 0                  & 50                 & United-States      & <=50K             \\\\\n",
       "\t 28                 & Local-gov          & 336951             & Assoc-acdm         & 12                 & Married-civ-spouse & Protective-serv    & Husband            & White              & Male               &    0               & 0                  & 40                 & United-States      & >50K              \\\\\n",
       "\t 44                 & Private            & 160323             & Some-college       & 10                 & Married-civ-spouse & Machine-op-inspct  & Husband            & Black              & Male               & 7688               & 0                  & 40                 & United-States      & >50K              \\\\\n",
       "\t 18                 & ?                  & 103497             & Some-college       & 10                 & Never-married      & ?                  & Own-child          & White              & Female             &    0               & 0                  & 30                 & United-States      & <=50K             \\\\\n",
       "\\end{tabular}\n"
      ],
      "text/markdown": [
       "\n",
       "V1 | V2 | V3 | V4 | V5 | V6 | V7 | V8 | V9 | V10 | V11 | V12 | V13 | V14 | V15 | \n",
       "|---|---|---|---|---|\n",
       "| 25                 | Private            | 226802             | 11th               |  7                 | Never-married      | Machine-op-inspct  | Own-child          | Black              | Male               |    0               | 0                  | 40                 | United-States      | <=50K              | \n",
       "| 38                 | Private            |  89814             | HS-grad            |  9                 | Married-civ-spouse | Farming-fishing    | Husband            | White              | Male               |    0               | 0                  | 50                 | United-States      | <=50K              | \n",
       "| 28                 | Local-gov          | 336951             | Assoc-acdm         | 12                 | Married-civ-spouse | Protective-serv    | Husband            | White              | Male               |    0               | 0                  | 40                 | United-States      | >50K               | \n",
       "| 44                 | Private            | 160323             | Some-college       | 10                 | Married-civ-spouse | Machine-op-inspct  | Husband            | Black              | Male               | 7688               | 0                  | 40                 | United-States      | >50K               | \n",
       "| 18                 | ?                  | 103497             | Some-college       | 10                 | Never-married      | ?                  | Own-child          | White              | Female             |    0               | 0                  | 30                 | United-States      | <=50K              | \n",
       "\n",
       "\n"
      ],
      "text/plain": [
       "  V1 V2        V3     V4           V5 V6                 V7               \n",
       "1 25 Private   226802 11th          7 Never-married      Machine-op-inspct\n",
       "2 38 Private    89814 HS-grad       9 Married-civ-spouse Farming-fishing  \n",
       "3 28 Local-gov 336951 Assoc-acdm   12 Married-civ-spouse Protective-serv  \n",
       "4 44 Private   160323 Some-college 10 Married-civ-spouse Machine-op-inspct\n",
       "5 18 ?         103497 Some-college 10 Never-married      ?                \n",
       "  V8        V9    V10    V11  V12 V13 V14           V15  \n",
       "1 Own-child Black Male      0 0   40  United-States <=50K\n",
       "2 Husband   White Male      0 0   50  United-States <=50K\n",
       "3 Husband   White Male      0 0   40  United-States >50K \n",
       "4 Husband   Black Male   7688 0   40  United-States >50K \n",
       "5 Own-child White Female    0 0   30  United-States <=50K"
      ]
     },
     "metadata": {},
     "output_type": "display_data"
    }
   ],
   "source": [
    "# Print to see sample data\n",
    "head(data_train,5)\n",
    "head(data_test,5)\n",
    "\n"
   ]
  },
  {
   "cell_type": "code",
   "execution_count": 4,
   "metadata": {
    "scrolled": false
   },
   "outputs": [
    {
     "name": "stderr",
     "output_type": "stream",
     "text": [
      "Warning message:\n",
      "\"package 'caret' was built under R version 3.4.3\"Loading required package: lattice\n",
      "Warning message:\n",
      "\"package 'lattice' was built under R version 3.4.3\"Loading required package: ggplot2\n",
      "Warning message:\n",
      "\"package 'ggplot2' was built under R version 3.4.3\"\n",
      "Attaching package: 'ggplot2'\n",
      "\n",
      "The following object is masked from 'package:randomForest':\n",
      "\n",
      "    margin\n",
      "\n"
     ]
    },
    {
     "data": {
      "text/plain": [
       "C5.0 \n",
       "\n",
       "32561 samples\n",
       "   14 predictor\n",
       "    2 classes: '<=50K', '>50K' \n",
       "\n",
       "No pre-processing\n",
       "Resampling: Cross-Validated (5 fold) \n",
       "Summary of sample sizes: 26049, 26049, 26049, 26048, 26049 \n",
       "Resampling results across tuning parameters:\n",
       "\n",
       "  model  winnow  trials  Accuracy   Kappa    \n",
       "  rules  FALSE    1      0.8651454  0.6046769\n",
       "  rules  FALSE   10      0.8690459  0.6157444\n",
       "  rules  FALSE   20      0.8718714  0.6278680\n",
       "  rules   TRUE    1      0.8629035  0.5974470\n",
       "  rules   TRUE   10      0.8670803  0.6045016\n",
       "  rules   TRUE   20      0.8679096  0.6103544\n",
       "  tree   FALSE    1      0.8664661  0.6147970\n",
       "  tree   FALSE   10      0.8662203  0.6175827\n",
       "  tree   FALSE   20      0.8701208  0.6240102\n",
       "  tree    TRUE    1      0.8650226  0.6073153\n",
       "  tree    TRUE   10      0.8649919  0.6078160\n",
       "  tree    TRUE   20      0.8660976  0.6095588\n",
       "\n",
       "Accuracy was used to select the optimal model using the largest value.\n",
       "The final values used for the model were trials = 20, model = rules and\n",
       " winnow = FALSE."
      ]
     },
     "metadata": {},
     "output_type": "display_data"
    }
   ],
   "source": [
    "# Train model\n",
    "set.seed(1234)\n",
    "\n",
    "library(caret)\n",
    "fitControl <- trainControl(method = \"cv\", number = 5)\n",
    "mdl<- train(V15 ~ ., data=data_train, trControl=fitControl,method=\"C5.0\")\n",
    "mdl\n",
    "\n"
   ]
  },
  {
   "cell_type": "code",
   "execution_count": 5,
   "metadata": {},
   "outputs": [
    {
     "data": {
      "text/plain": [
       "Confusion Matrix and Statistics\n",
       "\n",
       "          Reference\n",
       "Prediction <=50K  >50K\n",
       "     <=50K 11745  1393\n",
       "     >50K    690  2453\n",
       "                                          \n",
       "               Accuracy : 0.8721          \n",
       "                 95% CI : (0.8668, 0.8772)\n",
       "    No Information Rate : 0.7638          \n",
       "    P-Value [Acc > NIR] : < 2.2e-16       \n",
       "                                          \n",
       "                  Kappa : 0.6216          \n",
       " Mcnemar's Test P-Value : < 2.2e-16       \n",
       "                                          \n",
       "            Sensitivity : 0.9445          \n",
       "            Specificity : 0.6378          \n",
       "         Pos Pred Value : 0.8940          \n",
       "         Neg Pred Value : 0.7805          \n",
       "             Prevalence : 0.7638          \n",
       "         Detection Rate : 0.7214          \n",
       "   Detection Prevalence : 0.8070          \n",
       "      Balanced Accuracy : 0.7912          \n",
       "                                          \n",
       "       'Positive' Class : <=50K           \n",
       "                                          "
      ]
     },
     "metadata": {},
     "output_type": "display_data"
    }
   ],
   "source": [
    "p <- predict( mdl, data_test)\n",
    "confusionMatrix(p, data_test$V15)\n",
    "\n"
   ]
  },
  {
   "cell_type": "code",
   "execution_count": null,
   "metadata": {
    "collapsed": true
   },
   "outputs": [],
   "source": []
  }
 ],
 "metadata": {
  "kernelspec": {
   "display_name": "R",
   "language": "R",
   "name": "ir"
  },
  "language_info": {
   "codemirror_mode": "r",
   "file_extension": ".r",
   "mimetype": "text/x-r-source",
   "name": "R",
   "pygments_lexer": "r",
   "version": "3.4.2"
  }
 },
 "nbformat": 4,
 "nbformat_minor": 2
}

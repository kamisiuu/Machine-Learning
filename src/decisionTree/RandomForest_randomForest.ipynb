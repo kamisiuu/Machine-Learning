{
 "cells": [
  {
   "cell_type": "code",
   "execution_count": 2,
   "metadata": {},
   "outputs": [
    {
     "name": "stderr",
     "output_type": "stream",
     "text": [
      "Warning message:\n",
      "\"package 'caret' was built under R version 3.4.3\"Loading required package: lattice\n",
      "Warning message:\n",
      "\"package 'lattice' was built under R version 3.4.3\"Warning message:\n",
      "\"package 'randomForest' was built under R version 3.4.3\"randomForest 4.6-12\n",
      "Type rfNews() to see new features/changes/bug fixes.\n",
      "\n",
      "Attaching package: 'randomForest'\n",
      "\n",
      "The following object is masked from 'package:ggplot2':\n",
      "\n",
      "    margin\n",
      "\n"
     ]
    }
   ],
   "source": [
    "# Library & prepare training, testing data\n",
    "library(caret)\n",
    "library(randomForest)\n",
    "colClasses=c(\"integer\", \"factor\", \"integer\", \"factor\", \"integer\", \"factor\", \"factor\", \"factor\", \"factor\", \"factor\",\n",
    "             \"integer\", \"integer\", \"integer\", \"factor\", \"factor\")\n",
    "\n",
    "url_train <- \"http://archive.ics.uci.edu/ml/machine-learning-databases/adult/adult.data\"\n",
    "data_train <- read.table( file=url_train, header=FALSE, colClasses=colClasses, sep=\",\", strip.white=TRUE )\n",
    "\n",
    "url_test <- \"http://archive.ics.uci.edu/ml/machine-learning-databases/adult/adult.test\"\n",
    "data_test <- read.table( file=url_test, skip=1, header=FALSE, colClasses=colClasses, sep=\",\", strip.white=TRUE)\n",
    "\n",
    "#remove trailing dot\n",
    "data_test[,15] <- factor(sub(\"\\\\.\", \"\", data_test[,15]))\n",
    "\n",
    "# inTrain <- createDataPartition(y=data_train$V15, p=0.7, list=FALSE)\n",
    "# training <- data_train[inTrain,]\n",
    "# validation <- data_train[-inTrain,]\n"
   ]
  },
  {
   "cell_type": "code",
   "execution_count": 5,
   "metadata": {},
   "outputs": [
    {
     "data": {
      "text/html": [
       "<table>\n",
       "<thead><tr><th scope=col>V1</th><th scope=col>V2</th><th scope=col>V3</th><th scope=col>V4</th><th scope=col>V5</th><th scope=col>V6</th><th scope=col>V7</th><th scope=col>V8</th><th scope=col>V9</th><th scope=col>V10</th><th scope=col>V11</th><th scope=col>V12</th><th scope=col>V13</th><th scope=col>V14</th><th scope=col>V15</th></tr></thead>\n",
       "<tbody>\n",
       "\t<tr><td>39                                                        </td><td><span style=white-space:pre-wrap>State-gov       </span>  </td><td> 77516                                                    </td><td>Bachelors                                                 </td><td>13                                                        </td><td><span style=white-space:pre-wrap>Never-married     </span></td><td><span style=white-space:pre-wrap>Adm-clerical     </span> </td><td>Not-in-family                                             </td><td>White                                                     </td><td><span style=white-space:pre-wrap>Male  </span>            </td><td>2174                                                      </td><td>0                                                         </td><td>40                                                        </td><td>United-States                                             </td><td>&lt;=50K                                                  </td></tr>\n",
       "\t<tr><td>50                                                       </td><td>Self-emp-not-inc                                         </td><td> 83311                                                   </td><td>Bachelors                                                </td><td>13                                                       </td><td>Married-civ-spouse                                       </td><td><span style=white-space:pre-wrap>Exec-managerial  </span></td><td><span style=white-space:pre-wrap>Husband      </span>    </td><td>White                                                    </td><td><span style=white-space:pre-wrap>Male  </span>           </td><td><span style=white-space:pre-wrap>   0</span>             </td><td>0                                                        </td><td>13                                                       </td><td>United-States                                            </td><td>&lt;=50K                                                 </td></tr>\n",
       "\t<tr><td>38                                                        </td><td><span style=white-space:pre-wrap>Private         </span>  </td><td>215646                                                    </td><td><span style=white-space:pre-wrap>HS-grad  </span>         </td><td> 9                                                        </td><td><span style=white-space:pre-wrap>Divorced          </span></td><td>Handlers-cleaners                                         </td><td>Not-in-family                                             </td><td>White                                                     </td><td><span style=white-space:pre-wrap>Male  </span>            </td><td><span style=white-space:pre-wrap>   0</span>              </td><td>0                                                         </td><td>40                                                        </td><td>United-States                                             </td><td>&lt;=50K                                                  </td></tr>\n",
       "\t<tr><td>53                                                      </td><td><span style=white-space:pre-wrap>Private         </span></td><td>234721                                                  </td><td><span style=white-space:pre-wrap>11th     </span>       </td><td> 7                                                      </td><td>Married-civ-spouse                                      </td><td>Handlers-cleaners                                       </td><td><span style=white-space:pre-wrap>Husband      </span>   </td><td>Black                                                   </td><td><span style=white-space:pre-wrap>Male  </span>          </td><td><span style=white-space:pre-wrap>   0</span>            </td><td>0                                                       </td><td>40                                                      </td><td>United-States                                           </td><td>&lt;=50K                                                </td></tr>\n",
       "\t<tr><td>28                                                       </td><td><span style=white-space:pre-wrap>Private         </span> </td><td>338409                                                   </td><td>Bachelors                                                </td><td>13                                                       </td><td>Married-civ-spouse                                       </td><td><span style=white-space:pre-wrap>Prof-specialty   </span></td><td><span style=white-space:pre-wrap>Wife         </span>    </td><td>Black                                                    </td><td>Female                                                   </td><td><span style=white-space:pre-wrap>   0</span>             </td><td>0                                                        </td><td>40                                                       </td><td><span style=white-space:pre-wrap>Cuba         </span>    </td><td>&lt;=50K                                                 </td></tr>\n",
       "</tbody>\n",
       "</table>\n"
      ],
      "text/latex": [
       "\\begin{tabular}{r|lllllllllllllll}\n",
       " V1 & V2 & V3 & V4 & V5 & V6 & V7 & V8 & V9 & V10 & V11 & V12 & V13 & V14 & V15\\\\\n",
       "\\hline\n",
       "\t 39                 & State-gov          &  77516             & Bachelors          & 13                 & Never-married      & Adm-clerical       & Not-in-family      & White              & Male               & 2174               & 0                  & 40                 & United-States      & <=50K             \\\\\n",
       "\t 50                 & Self-emp-not-inc   &  83311             & Bachelors          & 13                 & Married-civ-spouse & Exec-managerial    & Husband            & White              & Male               &    0               & 0                  & 13                 & United-States      & <=50K             \\\\\n",
       "\t 38                 & Private            & 215646             & HS-grad            &  9                 & Divorced           & Handlers-cleaners  & Not-in-family      & White              & Male               &    0               & 0                  & 40                 & United-States      & <=50K             \\\\\n",
       "\t 53                 & Private            & 234721             & 11th               &  7                 & Married-civ-spouse & Handlers-cleaners  & Husband            & Black              & Male               &    0               & 0                  & 40                 & United-States      & <=50K             \\\\\n",
       "\t 28                 & Private            & 338409             & Bachelors          & 13                 & Married-civ-spouse & Prof-specialty     & Wife               & Black              & Female             &    0               & 0                  & 40                 & Cuba               & <=50K             \\\\\n",
       "\\end{tabular}\n"
      ],
      "text/markdown": [
       "\n",
       "V1 | V2 | V3 | V4 | V5 | V6 | V7 | V8 | V9 | V10 | V11 | V12 | V13 | V14 | V15 | \n",
       "|---|---|---|---|---|\n",
       "| 39                 | State-gov          |  77516             | Bachelors          | 13                 | Never-married      | Adm-clerical       | Not-in-family      | White              | Male               | 2174               | 0                  | 40                 | United-States      | <=50K              | \n",
       "| 50                 | Self-emp-not-inc   |  83311             | Bachelors          | 13                 | Married-civ-spouse | Exec-managerial    | Husband            | White              | Male               |    0               | 0                  | 13                 | United-States      | <=50K              | \n",
       "| 38                 | Private            | 215646             | HS-grad            |  9                 | Divorced           | Handlers-cleaners  | Not-in-family      | White              | Male               |    0               | 0                  | 40                 | United-States      | <=50K              | \n",
       "| 53                 | Private            | 234721             | 11th               |  7                 | Married-civ-spouse | Handlers-cleaners  | Husband            | Black              | Male               |    0               | 0                  | 40                 | United-States      | <=50K              | \n",
       "| 28                 | Private            | 338409             | Bachelors          | 13                 | Married-civ-spouse | Prof-specialty     | Wife               | Black              | Female             |    0               | 0                  | 40                 | Cuba               | <=50K              | \n",
       "\n",
       "\n"
      ],
      "text/plain": [
       "  V1 V2               V3     V4        V5 V6                 V7               \n",
       "1 39 State-gov         77516 Bachelors 13 Never-married      Adm-clerical     \n",
       "2 50 Self-emp-not-inc  83311 Bachelors 13 Married-civ-spouse Exec-managerial  \n",
       "3 38 Private          215646 HS-grad    9 Divorced           Handlers-cleaners\n",
       "4 53 Private          234721 11th       7 Married-civ-spouse Handlers-cleaners\n",
       "5 28 Private          338409 Bachelors 13 Married-civ-spouse Prof-specialty   \n",
       "  V8            V9    V10    V11  V12 V13 V14           V15  \n",
       "1 Not-in-family White Male   2174 0   40  United-States <=50K\n",
       "2 Husband       White Male      0 0   13  United-States <=50K\n",
       "3 Not-in-family White Male      0 0   40  United-States <=50K\n",
       "4 Husband       Black Male      0 0   40  United-States <=50K\n",
       "5 Wife          Black Female    0 0   40  Cuba          <=50K"
      ]
     },
     "metadata": {},
     "output_type": "display_data"
    },
    {
     "data": {
      "text/html": [
       "<table>\n",
       "<thead><tr><th scope=col>V1</th><th scope=col>V2</th><th scope=col>V3</th><th scope=col>V4</th><th scope=col>V5</th><th scope=col>V6</th><th scope=col>V7</th><th scope=col>V8</th><th scope=col>V9</th><th scope=col>V10</th><th scope=col>V11</th><th scope=col>V12</th><th scope=col>V13</th><th scope=col>V14</th><th scope=col>V15</th></tr></thead>\n",
       "<tbody>\n",
       "\t<tr><td>25                                                        </td><td><span style=white-space:pre-wrap>Private  </span>         </td><td>226802                                                    </td><td><span style=white-space:pre-wrap>11th        </span>      </td><td> 7                                                        </td><td><span style=white-space:pre-wrap>Never-married     </span></td><td>Machine-op-inspct                                         </td><td>Own-child                                                 </td><td>Black                                                     </td><td><span style=white-space:pre-wrap>Male  </span>            </td><td><span style=white-space:pre-wrap>   0</span>              </td><td>0                                                         </td><td>40                                                        </td><td>Trinadad&amp;Tobago                                       </td><td>&lt;=50K                                                  </td></tr>\n",
       "\t<tr><td>38                                                       </td><td><span style=white-space:pre-wrap>Private  </span>        </td><td> 89814                                                   </td><td><span style=white-space:pre-wrap>HS-grad     </span>     </td><td> 9                                                       </td><td>Married-civ-spouse                                       </td><td><span style=white-space:pre-wrap>Farming-fishing  </span></td><td><span style=white-space:pre-wrap>Husband  </span>        </td><td>White                                                    </td><td><span style=white-space:pre-wrap>Male  </span>           </td><td><span style=white-space:pre-wrap>   0</span>             </td><td>0                                                        </td><td>50                                                       </td><td>Trinadad&amp;Tobago                                      </td><td>&lt;=50K                                                 </td></tr>\n",
       "\t<tr><td>28                                                       </td><td>Local-gov                                                </td><td>336951                                                   </td><td><span style=white-space:pre-wrap>Assoc-acdm  </span>     </td><td>12                                                       </td><td>Married-civ-spouse                                       </td><td><span style=white-space:pre-wrap>Protective-serv  </span></td><td><span style=white-space:pre-wrap>Husband  </span>        </td><td>White                                                    </td><td><span style=white-space:pre-wrap>Male  </span>           </td><td><span style=white-space:pre-wrap>   0</span>             </td><td>0                                                        </td><td>40                                                       </td><td>Trinadad&amp;Tobago                                      </td><td>&gt;50K                                                  </td></tr>\n",
       "\t<tr><td>44                                               </td><td><span style=white-space:pre-wrap>Private  </span></td><td>160323                                           </td><td>Some-college                                     </td><td>10                                               </td><td>Married-civ-spouse                               </td><td>Machine-op-inspct                                </td><td><span style=white-space:pre-wrap>Husband  </span></td><td>Black                                            </td><td><span style=white-space:pre-wrap>Male  </span>   </td><td>7688                                             </td><td>0                                                </td><td>40                                               </td><td>Trinadad&amp;Tobago                              </td><td>&gt;50K                                          </td></tr>\n",
       "\t<tr><td>18                                                        </td><td><span style=white-space:pre-wrap>?        </span>         </td><td>103497                                                    </td><td>Some-college                                              </td><td>10                                                        </td><td><span style=white-space:pre-wrap>Never-married     </span></td><td><span style=white-space:pre-wrap>?                </span> </td><td>Own-child                                                 </td><td>White                                                     </td><td>Female                                                    </td><td><span style=white-space:pre-wrap>   0</span>              </td><td>0                                                         </td><td>30                                                        </td><td>Trinadad&amp;Tobago                                       </td><td>&lt;=50K                                                  </td></tr>\n",
       "</tbody>\n",
       "</table>\n"
      ],
      "text/latex": [
       "\\begin{tabular}{r|lllllllllllllll}\n",
       " V1 & V2 & V3 & V4 & V5 & V6 & V7 & V8 & V9 & V10 & V11 & V12 & V13 & V14 & V15\\\\\n",
       "\\hline\n",
       "\t 25                 & Private            & 226802             & 11th               &  7                 & Never-married      & Machine-op-inspct  & Own-child          & Black              & Male               &    0               & 0                  & 40                 & Trinadad\\&Tobago  & <=50K             \\\\\n",
       "\t 38                 & Private            &  89814             & HS-grad            &  9                 & Married-civ-spouse & Farming-fishing    & Husband            & White              & Male               &    0               & 0                  & 50                 & Trinadad\\&Tobago  & <=50K             \\\\\n",
       "\t 28                 & Local-gov          & 336951             & Assoc-acdm         & 12                 & Married-civ-spouse & Protective-serv    & Husband            & White              & Male               &    0               & 0                  & 40                 & Trinadad\\&Tobago  & >50K              \\\\\n",
       "\t 44                 & Private            & 160323             & Some-college       & 10                 & Married-civ-spouse & Machine-op-inspct  & Husband            & Black              & Male               & 7688               & 0                  & 40                 & Trinadad\\&Tobago  & >50K              \\\\\n",
       "\t 18                 & ?                  & 103497             & Some-college       & 10                 & Never-married      & ?                  & Own-child          & White              & Female             &    0               & 0                  & 30                 & Trinadad\\&Tobago  & <=50K             \\\\\n",
       "\\end{tabular}\n"
      ],
      "text/markdown": [
       "\n",
       "V1 | V2 | V3 | V4 | V5 | V6 | V7 | V8 | V9 | V10 | V11 | V12 | V13 | V14 | V15 | \n",
       "|---|---|---|---|---|\n",
       "| 25                 | Private            | 226802             | 11th               |  7                 | Never-married      | Machine-op-inspct  | Own-child          | Black              | Male               |    0               | 0                  | 40                 | Trinadad&Tobago    | <=50K              | \n",
       "| 38                 | Private            |  89814             | HS-grad            |  9                 | Married-civ-spouse | Farming-fishing    | Husband            | White              | Male               |    0               | 0                  | 50                 | Trinadad&Tobago    | <=50K              | \n",
       "| 28                 | Local-gov          | 336951             | Assoc-acdm         | 12                 | Married-civ-spouse | Protective-serv    | Husband            | White              | Male               |    0               | 0                  | 40                 | Trinadad&Tobago    | >50K               | \n",
       "| 44                 | Private            | 160323             | Some-college       | 10                 | Married-civ-spouse | Machine-op-inspct  | Husband            | Black              | Male               | 7688               | 0                  | 40                 | Trinadad&Tobago    | >50K               | \n",
       "| 18                 | ?                  | 103497             | Some-college       | 10                 | Never-married      | ?                  | Own-child          | White              | Female             |    0               | 0                  | 30                 | Trinadad&Tobago    | <=50K              | \n",
       "\n",
       "\n"
      ],
      "text/plain": [
       "  V1 V2        V3     V4           V5 V6                 V7               \n",
       "1 25 Private   226802 11th          7 Never-married      Machine-op-inspct\n",
       "2 38 Private    89814 HS-grad       9 Married-civ-spouse Farming-fishing  \n",
       "3 28 Local-gov 336951 Assoc-acdm   12 Married-civ-spouse Protective-serv  \n",
       "4 44 Private   160323 Some-college 10 Married-civ-spouse Machine-op-inspct\n",
       "5 18 ?         103497 Some-college 10 Never-married      ?                \n",
       "  V8        V9    V10    V11  V12 V13 V14             V15  \n",
       "1 Own-child Black Male      0 0   40  Trinadad&Tobago <=50K\n",
       "2 Husband   White Male      0 0   50  Trinadad&Tobago <=50K\n",
       "3 Husband   White Male      0 0   40  Trinadad&Tobago >50K \n",
       "4 Husband   Black Male   7688 0   40  Trinadad&Tobago >50K \n",
       "5 Own-child White Female    0 0   30  Trinadad&Tobago <=50K"
      ]
     },
     "metadata": {},
     "output_type": "display_data"
    }
   ],
   "source": [
    "common <- intersect(names(data_train), names(data_test)) \n",
    "for (p in common) { \n",
    "  if (class(data_train[[p]]) == \"factor\") { \n",
    "    levels(data_test[[p]]) <- levels(data_train[[p]]) \n",
    "  } \n",
    "}\n",
    "head(data_train,5)\n",
    "head(data_test,5)\n"
   ]
  },
  {
   "cell_type": "code",
   "execution_count": 7,
   "metadata": {},
   "outputs": [
    {
     "name": "stdout",
     "output_type": "stream",
     "text": [
      "   mtry nodesize sampsize\n",
      "49    2        1    32561\n"
     ]
    }
   ],
   "source": [
    "# Establish a list of possible values for mtry, nodesize and sampsize\n",
    "mtry <- seq(2, ncol(data_train) * 0.8, 2)\n",
    "nodesize <- seq(1, 8, 2)\n",
    "sampsize <- nrow(data_train) * c(0.7, 0.8, 1)\n",
    "\n",
    "# Create a data frame containing all combinations \n",
    "hyper_grid <- expand.grid(mtry = mtry, nodesize = nodesize, sampsize = sampsize)\n",
    "\n",
    "# Create an empty vector to store OOB error values\n",
    "oob_err <- c()\n",
    "\n",
    "# Write a loop over the rows of hyper_grid to train the grid of models\n",
    "for (i in 1:nrow(hyper_grid)) {\n",
    "\n",
    "    # Train a Random Forest model\n",
    "    model <- randomForest(x=data_train[,1:14],\n",
    "                          y=data_train[,15],\n",
    "                          mtry = hyper_grid$mtry[i],\n",
    "                          nodesize = hyper_grid$nodesize[i],\n",
    "                          sampsize = hyper_grid$sampsize[i])\n",
    "                          \n",
    "    # Store OOB error for the model                      \n",
    "    oob_err[i] <- model$err.rate[nrow(model$err.rate), \"OOB\"]\n",
    "}\n",
    "\n",
    "# Identify optimal set of hyperparmeters based on OOB error\n",
    "opt_i <- which.min(oob_err)\n",
    "print(hyper_grid[opt_i,])\n",
    "\n"
   ]
  },
  {
   "cell_type": "code",
   "execution_count": 10,
   "metadata": {},
   "outputs": [
    {
     "data": {
      "text/plain": [
       "\n",
       "Call:\n",
       " randomForest(x = data_train[, 1:14], y = data_train[, 15], mtry = 2,      sampsize = 32561, nodesize = 1) \n",
       "               Type of random forest: classification\n",
       "                     Number of trees: 500\n",
       "No. of variables tried at each split: 2\n",
       "\n",
       "        OOB estimate of  error rate: 17.21%\n",
       "Confusion matrix:\n",
       "      <=50K >50K class.error\n",
       "<=50K 24612  108 0.004368932\n",
       ">50K   5495 2346 0.700803469"
      ]
     },
     "metadata": {},
     "output_type": "display_data"
    },
    {
     "data": {
      "text/plain": [
       "Confusion Matrix and Statistics\n",
       "\n",
       "          Reference\n",
       "Prediction <=50K  >50K\n",
       "     <=50K 12399  2740\n",
       "     >50K     36  1106\n",
       "                                          \n",
       "               Accuracy : 0.8295          \n",
       "                 95% CI : (0.8236, 0.8352)\n",
       "    No Information Rate : 0.7638          \n",
       "    P-Value [Acc > NIR] : < 2.2e-16       \n",
       "                                          \n",
       "                  Kappa : 0.376           \n",
       " Mcnemar's Test P-Value : < 2.2e-16       \n",
       "                                          \n",
       "            Sensitivity : 0.9971          \n",
       "            Specificity : 0.2876          \n",
       "         Pos Pred Value : 0.8190          \n",
       "         Neg Pred Value : 0.9685          \n",
       "             Prevalence : 0.7638          \n",
       "         Detection Rate : 0.7616          \n",
       "   Detection Prevalence : 0.9299          \n",
       "      Balanced Accuracy : 0.6423          \n",
       "                                          \n",
       "       'Positive' Class : <=50K           \n",
       "                                          "
      ]
     },
     "metadata": {},
     "output_type": "display_data"
    }
   ],
   "source": [
    "set.seed(1234)\n",
    "model <- randomForest(x=data_train[,1:14],\n",
    "                      y=data_train[,15],\n",
    "                      mtry = 2,\n",
    "                      nodesize = 1,\n",
    "                      sampsize = 32561)\n",
    "model\n",
    "# Predicting response variable\n",
    "p <- predict(model ,data_test)\n",
    "confusionMatrix(p, data_test$V15)\n",
    "\n"
   ]
  },
  {
   "cell_type": "code",
   "execution_count": 6,
   "metadata": {},
   "outputs": [
    {
     "data": {
      "text/plain": [
       "\n",
       "Call:\n",
       " randomForest(x = data_train[, 1:14], y = data_train[, 15], mtry = 9,      nodesize = 5) \n",
       "               Type of random forest: classification\n",
       "                     Number of trees: 500\n",
       "No. of variables tried at each split: 9\n",
       "\n",
       "        OOB estimate of  error rate: 17.62%\n",
       "Confusion matrix:\n",
       "      <=50K >50K class.error\n",
       "<=50K 24609  111 0.004490291\n",
       ">50K   5627 2214 0.717638056"
      ]
     },
     "metadata": {},
     "output_type": "display_data"
    },
    {
     "data": {
      "text/plain": [
       "Confusion Matrix and Statistics\n",
       "\n",
       "          Reference\n",
       "Prediction <=50K  >50K\n",
       "     <=50K 12377  2793\n",
       "     >50K     58  1053\n",
       "                                         \n",
       "               Accuracy : 0.8249         \n",
       "                 95% CI : (0.819, 0.8307)\n",
       "    No Information Rate : 0.7638         \n",
       "    P-Value [Acc > NIR] : < 2.2e-16      \n",
       "                                         \n",
       "                  Kappa : 0.3567         \n",
       " Mcnemar's Test P-Value : < 2.2e-16      \n",
       "                                         \n",
       "            Sensitivity : 0.9953         \n",
       "            Specificity : 0.2738         \n",
       "         Pos Pred Value : 0.8159         \n",
       "         Neg Pred Value : 0.9478         \n",
       "             Prevalence : 0.7638         \n",
       "         Detection Rate : 0.7602         \n",
       "   Detection Prevalence : 0.9318         \n",
       "      Balanced Accuracy : 0.6346         \n",
       "                                         \n",
       "       'Positive' Class : <=50K          \n",
       "                                         "
      ]
     },
     "metadata": {},
     "output_type": "display_data"
    }
   ],
   "source": [
    "model <- randomForest(x=data_train[,1:14],\n",
    "                      y=data_train[,15],\n",
    "                      mtry = 9,\n",
    "                      nodesize = 5)\n",
    "model\n",
    "\n",
    "# Predicting response variable\n",
    "p <- predict(model ,data_test)\n",
    "confusionMatrix(p, data_test$V15)"
   ]
  },
  {
   "cell_type": "code",
   "execution_count": 3,
   "metadata": {},
   "outputs": [
    {
     "name": "stdout",
     "output_type": "stream",
     "text": [
      "mtry = 3  OOB error = 17.52% \n",
      "Searching left ...\n",
      "mtry = 2 \tOOB error = 16.96% \n",
      "0.03207713 0.01 \n",
      "Searching right ...\n",
      "mtry = 4 \tOOB error = 17.57% \n",
      "-0.03603767 0.01 \n"
     ]
    },
    {
     "data": {
      "image/png": "[encoded data removed]",
      "text/plain": [
       "plot without title"
      ]
     },
     "metadata": {},
     "output_type": "display_data"
    }
   ],
   "source": [
    "library(ggplot2)\n",
    "bestmtry <- tuneRF(data_train[-15],data_train$V15, ntreeTry=500, \n",
    "     stepFactor=1.5,improve=0.01, trace=TRUE, dobest=FALSE)\n"
   ]
  },
  {
   "cell_type": "code",
   "execution_count": 24,
   "metadata": {},
   "outputs": [
    {
     "data": {
      "text/html": [
       "<table>\n",
       "<thead><tr><th></th><th scope=col>mtry</th><th scope=col>OOBError</th></tr></thead>\n",
       "<tbody>\n",
       "\t<tr><th scope=row>2.OOB</th><td>2        </td><td>0.1732441</td></tr>\n",
       "\t<tr><th scope=row>3.OOB</th><td>3        </td><td>0.1762231</td></tr>\n",
       "\t<tr><th scope=row>4.OOB</th><td>4        </td><td>0.1760388</td></tr>\n",
       "</tbody>\n",
       "</table>\n"
      ],
      "text/latex": [
       "\\begin{tabular}{r|ll}\n",
       "  & mtry & OOBError\\\\\n",
       "\\hline\n",
       "\t2.OOB & 2         & 0.1732441\\\\\n",
       "\t3.OOB & 3         & 0.1762231\\\\\n",
       "\t4.OOB & 4         & 0.1760388\\\\\n",
       "\\end{tabular}\n"
      ],
      "text/markdown": [
       "\n",
       "| <!--/--> | mtry | OOBError | \n",
       "|---|---|---|\n",
       "| 2.OOB | 2         | 0.1732441 | \n",
       "| 3.OOB | 3         | 0.1762231 | \n",
       "| 4.OOB | 4         | 0.1760388 | \n",
       "\n",
       "\n"
      ],
      "text/plain": [
       "      mtry OOBError \n",
       "2.OOB 2    0.1732441\n",
       "3.OOB 3    0.1762231\n",
       "4.OOB 4    0.1760388"
      ]
     },
     "metadata": {},
     "output_type": "display_data"
    }
   ],
   "source": [
    "bestmtry\n",
    "adult.rf <-randomForest(V15~.,data=data_train, mtry=2, ntree=1000, \n",
    "     keep.forest=TRUE, importance=TRUE,test=data_test)"
   ]
  },
  {
   "cell_type": "code",
   "execution_count": 25,
   "metadata": {},
   "outputs": [
    {
     "data": {
      "text/plain": [
       "\n",
       "Call:\n",
       " randomForest(formula = V15 ~ ., data = data_train, mtry = 2,      ntree = 1000, keep.forest = TRUE, importance = TRUE, test = data_test) \n",
       "               Type of random forest: classification\n",
       "                     Number of trees: 1000\n",
       "No. of variables tried at each split: 2\n",
       "\n",
       "        OOB estimate of  error rate: 17.2%\n",
       "Confusion matrix:\n",
       "        <=50K  >50K class.error\n",
       " <=50K  24608   112 0.004530744\n",
       " >50K    5488  2353 0.699910726"
      ]
     },
     "metadata": {},
     "output_type": "display_data"
    }
   ],
   "source": [
    "adult.rf"
   ]
  },
  {
   "cell_type": "code",
   "execution_count": null,
   "metadata": {
    "collapsed": true
   },
   "outputs": [],
   "source": []
  }
 ],
 "metadata": {
  "kernelspec": {
   "display_name": "R",
   "language": "R",
   "name": "ir"
  },
  "language_info": {
   "codemirror_mode": "r",
   "file_extension": ".r",
   "mimetype": "text/x-r-source",
   "name": "R",
   "pygments_lexer": "r",
   "version": "3.4.2"
  }
 },
 "nbformat": 4,
 "nbformat_minor": 2
}

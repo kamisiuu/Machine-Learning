{
 "cells": [
  {
   "cell_type": "code",
   "execution_count": 9,
   "metadata": {
    "collapsed": true
   },
   "outputs": [],
   "source": [
    "# Library & prepare training, testing data\n",
    "library(caret)\n",
    "library(randomForest)\n",
    "colClasses=c(\"integer\", \"factor\", \"integer\", \"factor\", \"integer\", \"factor\", \"factor\", \"factor\", \"factor\", \"factor\",\n",
    "             \"integer\", \"integer\", \"integer\", \"factor\", \"factor\")\n",
    "\n",
    "url_train <- \"http://archive.ics.uci.edu/ml/machine-learning-databases/adult/adult.data\"\n",
    "data_train <- read.table( file=url_train, header=FALSE, colClasses=colClasses, sep=\",\", strip.white=TRUE )\n",
    "\n",
    "url_test <- \"http://archive.ics.uci.edu/ml/machine-learning-databases/adult/adult.test\"\n",
    "data_test <- read.table( file=url_test, skip=1, header=FALSE, colClasses=colClasses, sep=\",\", strip.white=TRUE)\n",
    "\n",
    "#remove trailing dot\n",
    "data_test[,15] <- factor(sub(\"\\\\.\", \"\", data_test[,15]))\n",
    "\n",
    "# inTrain <- createDataPartition(y=data_train$V15, p=0.7, list=FALSE)\n",
    "# training <- data_train[inTrain,]\n",
    "# validation <- data_train[-inTrain,]"
   ]
  },
  {
   "cell_type": "code",
   "execution_count": 10,
   "metadata": {},
   "outputs": [
    {
     "data": {
      "text/html": [
       "<table>\n",
       "<thead><tr><th scope=col>V1</th><th scope=col>V2</th><th scope=col>V3</th><th scope=col>V4</th><th scope=col>V5</th><th scope=col>V6</th><th scope=col>V7</th><th scope=col>V8</th><th scope=col>V9</th><th scope=col>V10</th><th scope=col>V11</th><th scope=col>V12</th><th scope=col>V13</th><th scope=col>V14</th><th scope=col>V15</th></tr></thead>\n",
       "<tbody>\n",
       "\t<tr><td>39                                                        </td><td><span style=white-space:pre-wrap>State-gov       </span>  </td><td> 77516                                                    </td><td>Bachelors                                                 </td><td>13                                                        </td><td><span style=white-space:pre-wrap>Never-married     </span></td><td><span style=white-space:pre-wrap>Adm-clerical     </span> </td><td>Not-in-family                                             </td><td>White                                                     </td><td><span style=white-space:pre-wrap>Male  </span>            </td><td>2174                                                      </td><td>0                                                         </td><td>40                                                        </td><td>United-States                                             </td><td>&lt;=50K                                                  </td></tr>\n",
       "\t<tr><td>50                                                       </td><td>Self-emp-not-inc                                         </td><td> 83311                                                   </td><td>Bachelors                                                </td><td>13                                                       </td><td>Married-civ-spouse                                       </td><td><span style=white-space:pre-wrap>Exec-managerial  </span></td><td><span style=white-space:pre-wrap>Husband      </span>    </td><td>White                                                    </td><td><span style=white-space:pre-wrap>Male  </span>           </td><td><span style=white-space:pre-wrap>   0</span>             </td><td>0                                                        </td><td>13                                                       </td><td>United-States                                            </td><td>&lt;=50K                                                 </td></tr>\n",
       "\t<tr><td>38                                                        </td><td><span style=white-space:pre-wrap>Private         </span>  </td><td>215646                                                    </td><td><span style=white-space:pre-wrap>HS-grad  </span>         </td><td> 9                                                        </td><td><span style=white-space:pre-wrap>Divorced          </span></td><td>Handlers-cleaners                                         </td><td>Not-in-family                                             </td><td>White                                                     </td><td><span style=white-space:pre-wrap>Male  </span>            </td><td><span style=white-space:pre-wrap>   0</span>              </td><td>0                                                         </td><td>40                                                        </td><td>United-States                                             </td><td>&lt;=50K                                                  </td></tr>\n",
       "\t<tr><td>53                                                      </td><td><span style=white-space:pre-wrap>Private         </span></td><td>234721                                                  </td><td><span style=white-space:pre-wrap>11th     </span>       </td><td> 7                                                      </td><td>Married-civ-spouse                                      </td><td>Handlers-cleaners                                       </td><td><span style=white-space:pre-wrap>Husband      </span>   </td><td>Black                                                   </td><td><span style=white-space:pre-wrap>Male  </span>          </td><td><span style=white-space:pre-wrap>   0</span>            </td><td>0                                                       </td><td>40                                                      </td><td>United-States                                           </td><td>&lt;=50K                                                </td></tr>\n",
       "\t<tr><td>28                                                       </td><td><span style=white-space:pre-wrap>Private         </span> </td><td>338409                                                   </td><td>Bachelors                                                </td><td>13                                                       </td><td>Married-civ-spouse                                       </td><td><span style=white-space:pre-wrap>Prof-specialty   </span></td><td><span style=white-space:pre-wrap>Wife         </span>    </td><td>Black                                                    </td><td>Female                                                   </td><td><span style=white-space:pre-wrap>   0</span>             </td><td>0                                                        </td><td>40                                                       </td><td><span style=white-space:pre-wrap>Cuba         </span>    </td><td>&lt;=50K                                                 </td></tr>\n",
       "</tbody>\n",
       "</table>\n"
      ],
      "text/latex": [
       "\\begin{tabular}{r|lllllllllllllll}\n",
       " V1 & V2 & V3 & V4 & V5 & V6 & V7 & V8 & V9 & V10 & V11 & V12 & V13 & V14 & V15\\\\\n",
       "\\hline\n",
       "\t 39                 & State-gov          &  77516             & Bachelors          & 13                 & Never-married      & Adm-clerical       & Not-in-family      & White              & Male               & 2174               & 0                  & 40                 & United-States      & <=50K             \\\\\n",
       "\t 50                 & Self-emp-not-inc   &  83311             & Bachelors          & 13                 & Married-civ-spouse & Exec-managerial    & Husband            & White              & Male               &    0               & 0                  & 13                 & United-States      & <=50K             \\\\\n",
       "\t 38                 & Private            & 215646             & HS-grad            &  9                 & Divorced           & Handlers-cleaners  & Not-in-family      & White              & Male               &    0               & 0                  & 40                 & United-States      & <=50K             \\\\\n",
       "\t 53                 & Private            & 234721             & 11th               &  7                 & Married-civ-spouse & Handlers-cleaners  & Husband            & Black              & Male               &    0               & 0                  & 40                 & United-States      & <=50K             \\\\\n",
       "\t 28                 & Private            & 338409             & Bachelors          & 13                 & Married-civ-spouse & Prof-specialty     & Wife               & Black              & Female             &    0               & 0                  & 40                 & Cuba               & <=50K             \\\\\n",
       "\\end{tabular}\n"
      ],
      "text/markdown": [
       "\n",
       "V1 | V2 | V3 | V4 | V5 | V6 | V7 | V8 | V9 | V10 | V11 | V12 | V13 | V14 | V15 | \n",
       "|---|---|---|---|---|\n",
       "| 39                 | State-gov          |  77516             | Bachelors          | 13                 | Never-married      | Adm-clerical       | Not-in-family      | White              | Male               | 2174               | 0                  | 40                 | United-States      | <=50K              | \n",
       "| 50                 | Self-emp-not-inc   |  83311             | Bachelors          | 13                 | Married-civ-spouse | Exec-managerial    | Husband            | White              | Male               |    0               | 0                  | 13                 | United-States      | <=50K              | \n",
       "| 38                 | Private            | 215646             | HS-grad            |  9                 | Divorced           | Handlers-cleaners  | Not-in-family      | White              | Male               |    0               | 0                  | 40                 | United-States      | <=50K              | \n",
       "| 53                 | Private            | 234721             | 11th               |  7                 | Married-civ-spouse | Handlers-cleaners  | Husband            | Black              | Male               |    0               | 0                  | 40                 | United-States      | <=50K              | \n",
       "| 28                 | Private            | 338409             | Bachelors          | 13                 | Married-civ-spouse | Prof-specialty     | Wife               | Black              | Female             |    0               | 0                  | 40                 | Cuba               | <=50K              | \n",
       "\n",
       "\n"
      ],
      "text/plain": [
       "  V1 V2               V3     V4        V5 V6                 V7               \n",
       "1 39 State-gov         77516 Bachelors 13 Never-married      Adm-clerical     \n",
       "2 50 Self-emp-not-inc  83311 Bachelors 13 Married-civ-spouse Exec-managerial  \n",
       "3 38 Private          215646 HS-grad    9 Divorced           Handlers-cleaners\n",
       "4 53 Private          234721 11th       7 Married-civ-spouse Handlers-cleaners\n",
       "5 28 Private          338409 Bachelors 13 Married-civ-spouse Prof-specialty   \n",
       "  V8            V9    V10    V11  V12 V13 V14           V15  \n",
       "1 Not-in-family White Male   2174 0   40  United-States <=50K\n",
       "2 Husband       White Male      0 0   13  United-States <=50K\n",
       "3 Not-in-family White Male      0 0   40  United-States <=50K\n",
       "4 Husband       Black Male      0 0   40  United-States <=50K\n",
       "5 Wife          Black Female    0 0   40  Cuba          <=50K"
      ]
     },
     "metadata": {},
     "output_type": "display_data"
    },
    {
     "data": {
      "text/html": [
       "<table>\n",
       "<thead><tr><th scope=col>V1</th><th scope=col>V2</th><th scope=col>V3</th><th scope=col>V4</th><th scope=col>V5</th><th scope=col>V6</th><th scope=col>V7</th><th scope=col>V8</th><th scope=col>V9</th><th scope=col>V10</th><th scope=col>V11</th><th scope=col>V12</th><th scope=col>V13</th><th scope=col>V14</th><th scope=col>V15</th></tr></thead>\n",
       "<tbody>\n",
       "\t<tr><td>25                                                        </td><td><span style=white-space:pre-wrap>Private  </span>         </td><td>226802                                                    </td><td><span style=white-space:pre-wrap>11th        </span>      </td><td> 7                                                        </td><td><span style=white-space:pre-wrap>Never-married     </span></td><td>Machine-op-inspct                                         </td><td>Own-child                                                 </td><td>Black                                                     </td><td><span style=white-space:pre-wrap>Male  </span>            </td><td><span style=white-space:pre-wrap>   0</span>              </td><td>0                                                         </td><td>40                                                        </td><td>Trinadad&amp;Tobago                                       </td><td>&lt;=50K                                                  </td></tr>\n",
       "\t<tr><td>38                                                       </td><td><span style=white-space:pre-wrap>Private  </span>        </td><td> 89814                                                   </td><td><span style=white-space:pre-wrap>HS-grad     </span>     </td><td> 9                                                       </td><td>Married-civ-spouse                                       </td><td><span style=white-space:pre-wrap>Farming-fishing  </span></td><td><span style=white-space:pre-wrap>Husband  </span>        </td><td>White                                                    </td><td><span style=white-space:pre-wrap>Male  </span>           </td><td><span style=white-space:pre-wrap>   0</span>             </td><td>0                                                        </td><td>50                                                       </td><td>Trinadad&amp;Tobago                                      </td><td>&lt;=50K                                                 </td></tr>\n",
       "\t<tr><td>28                                                       </td><td>Local-gov                                                </td><td>336951                                                   </td><td><span style=white-space:pre-wrap>Assoc-acdm  </span>     </td><td>12                                                       </td><td>Married-civ-spouse                                       </td><td><span style=white-space:pre-wrap>Protective-serv  </span></td><td><span style=white-space:pre-wrap>Husband  </span>        </td><td>White                                                    </td><td><span style=white-space:pre-wrap>Male  </span>           </td><td><span style=white-space:pre-wrap>   0</span>             </td><td>0                                                        </td><td>40                                                       </td><td>Trinadad&amp;Tobago                                      </td><td>&gt;50K                                                  </td></tr>\n",
       "\t<tr><td>44                                               </td><td><span style=white-space:pre-wrap>Private  </span></td><td>160323                                           </td><td>Some-college                                     </td><td>10                                               </td><td>Married-civ-spouse                               </td><td>Machine-op-inspct                                </td><td><span style=white-space:pre-wrap>Husband  </span></td><td>Black                                            </td><td><span style=white-space:pre-wrap>Male  </span>   </td><td>7688                                             </td><td>0                                                </td><td>40                                               </td><td>Trinadad&amp;Tobago                              </td><td>&gt;50K                                          </td></tr>\n",
       "\t<tr><td>18                                                        </td><td><span style=white-space:pre-wrap>?        </span>         </td><td>103497                                                    </td><td>Some-college                                              </td><td>10                                                        </td><td><span style=white-space:pre-wrap>Never-married     </span></td><td><span style=white-space:pre-wrap>?                </span> </td><td>Own-child                                                 </td><td>White                                                     </td><td>Female                                                    </td><td><span style=white-space:pre-wrap>   0</span>              </td><td>0                                                         </td><td>30                                                        </td><td>Trinadad&amp;Tobago                                       </td><td>&lt;=50K                                                  </td></tr>\n",
       "</tbody>\n",
       "</table>\n"
      ],
      "text/latex": [
       "\\begin{tabular}{r|lllllllllllllll}\n",
       " V1 & V2 & V3 & V4 & V5 & V6 & V7 & V8 & V9 & V10 & V11 & V12 & V13 & V14 & V15\\\\\n",
       "\\hline\n",
       "\t 25                 & Private            & 226802             & 11th               &  7                 & Never-married      & Machine-op-inspct  & Own-child          & Black              & Male               &    0               & 0                  & 40                 & Trinadad\\&Tobago  & <=50K             \\\\\n",
       "\t 38                 & Private            &  89814             & HS-grad            &  9                 & Married-civ-spouse & Farming-fishing    & Husband            & White              & Male               &    0               & 0                  & 50                 & Trinadad\\&Tobago  & <=50K             \\\\\n",
       "\t 28                 & Local-gov          & 336951             & Assoc-acdm         & 12                 & Married-civ-spouse & Protective-serv    & Husband            & White              & Male               &    0               & 0                  & 40                 & Trinadad\\&Tobago  & >50K              \\\\\n",
       "\t 44                 & Private            & 160323             & Some-college       & 10                 & Married-civ-spouse & Machine-op-inspct  & Husband            & Black              & Male               & 7688               & 0                  & 40                 & Trinadad\\&Tobago  & >50K              \\\\\n",
       "\t 18                 & ?                  & 103497             & Some-college       & 10                 & Never-married      & ?                  & Own-child          & White              & Female             &    0               & 0                  & 30                 & Trinadad\\&Tobago  & <=50K             \\\\\n",
       "\\end{tabular}\n"
      ],
      "text/markdown": [
       "\n",
       "V1 | V2 | V3 | V4 | V5 | V6 | V7 | V8 | V9 | V10 | V11 | V12 | V13 | V14 | V15 | \n",
       "|---|---|---|---|---|\n",
       "| 25                 | Private            | 226802             | 11th               |  7                 | Never-married      | Machine-op-inspct  | Own-child          | Black              | Male               |    0               | 0                  | 40                 | Trinadad&Tobago    | <=50K              | \n",
       "| 38                 | Private            |  89814             | HS-grad            |  9                 | Married-civ-spouse | Farming-fishing    | Husband            | White              | Male               |    0               | 0                  | 50                 | Trinadad&Tobago    | <=50K              | \n",
       "| 28                 | Local-gov          | 336951             | Assoc-acdm         | 12                 | Married-civ-spouse | Protective-serv    | Husband            | White              | Male               |    0               | 0                  | 40                 | Trinadad&Tobago    | >50K               | \n",
       "| 44                 | Private            | 160323             | Some-college       | 10                 | Married-civ-spouse | Machine-op-inspct  | Husband            | Black              | Male               | 7688               | 0                  | 40                 | Trinadad&Tobago    | >50K               | \n",
       "| 18                 | ?                  | 103497             | Some-college       | 10                 | Never-married      | ?                  | Own-child          | White              | Female             |    0               | 0                  | 30                 | Trinadad&Tobago    | <=50K              | \n",
       "\n",
       "\n"
      ],
      "text/plain": [
       "  V1 V2        V3     V4           V5 V6                 V7               \n",
       "1 25 Private   226802 11th          7 Never-married      Machine-op-inspct\n",
       "2 38 Private    89814 HS-grad       9 Married-civ-spouse Farming-fishing  \n",
       "3 28 Local-gov 336951 Assoc-acdm   12 Married-civ-spouse Protective-serv  \n",
       "4 44 Private   160323 Some-college 10 Married-civ-spouse Machine-op-inspct\n",
       "5 18 ?         103497 Some-college 10 Never-married      ?                \n",
       "  V8        V9    V10    V11  V12 V13 V14             V15  \n",
       "1 Own-child Black Male      0 0   40  Trinadad&Tobago <=50K\n",
       "2 Husband   White Male      0 0   50  Trinadad&Tobago <=50K\n",
       "3 Husband   White Male      0 0   40  Trinadad&Tobago >50K \n",
       "4 Husband   Black Male   7688 0   40  Trinadad&Tobago >50K \n",
       "5 Own-child White Female    0 0   30  Trinadad&Tobago <=50K"
      ]
     },
     "metadata": {},
     "output_type": "display_data"
    }
   ],
   "source": [
    "# Map levels of training set to test set\n",
    "common <- intersect(names(data_train), names(data_test)) \n",
    "for (p in common) { \n",
    "  if (class(data_train[[p]]) == \"factor\") { \n",
    "    levels(data_test[[p]]) <- levels(data_train[[p]]) \n",
    "  } \n",
    "}\n",
    "\n",
    "head(data_train,5)\n",
    "head(data_test,5)\n",
    "\n"
   ]
  },
  {
   "cell_type": "code",
   "execution_count": 11,
   "metadata": {},
   "outputs": [
    {
     "name": "stdout",
     "output_type": "stream",
     "text": [
      "[1] 4\n"
     ]
    },
    {
     "data": {
      "text/plain": [
       "   user  system elapsed \n",
       " 416.11    4.41 4362.81 "
      ]
     },
     "metadata": {},
     "output_type": "display_data"
    },
    {
     "data": {
      "text/plain": [
       "Random Forest \n",
       "\n",
       "32561 samples\n",
       "   14 predictor\n",
       "    2 classes: '<=50K', '>50K' \n",
       "\n",
       "No pre-processing\n",
       "Resampling: Cross-Validated (5 fold) \n",
       "Summary of sample sizes: 26049, 26049, 26049, 26048, 26049 \n",
       "Resampling results across tuning parameters:\n",
       "\n",
       "  mtry  Accuracy   Kappa    \n",
       "    2   0.8096189  0.3092421\n",
       "   51   0.8571606  0.5873444\n",
       "  100   0.8553794  0.5836922\n",
       "\n",
       "Accuracy was used to select the optimal model using the largest value.\n",
       "The final value used for the model was mtry = 51."
      ]
     },
     "metadata": {},
     "output_type": "display_data"
    }
   ],
   "source": [
    "# Train model\n",
    "library(parallel)\n",
    "library(doParallel)\n",
    "set.seed(1234)\n",
    "\n",
    "print(detectCores())\n",
    "cluster <- makeCluster(detectCores()-1) \n",
    "registerDoParallel(cluster)\n",
    "\n",
    "control <- trainControl(method=\"cv\", number=5, allowParallel = TRUE)\n",
    "system.time(modFit <- train(V15 ~ ., data=data_train, method=\"rf\", trControl=control))\n",
    "stopCluster(cluster)\n",
    "modFit\n"
   ]
  },
  {
   "cell_type": "code",
   "execution_count": 12,
   "metadata": {},
   "outputs": [
    {
     "data": {
      "text/plain": [
       "Confusion Matrix and Statistics\n",
       "\n",
       "          Reference\n",
       "Prediction <=50K  >50K\n",
       "     <=50K 11733  1635\n",
       "     >50K    702  2211\n",
       "                                         \n",
       "               Accuracy : 0.8565         \n",
       "                 95% CI : (0.851, 0.8618)\n",
       "    No Information Rate : 0.7638         \n",
       "    P-Value [Acc > NIR] : < 2.2e-16      \n",
       "                                         \n",
       "                  Kappa : 0.5658         \n",
       " Mcnemar's Test P-Value : < 2.2e-16      \n",
       "                                         \n",
       "            Sensitivity : 0.9435         \n",
       "            Specificity : 0.5749         \n",
       "         Pos Pred Value : 0.8777         \n",
       "         Neg Pred Value : 0.7590         \n",
       "             Prevalence : 0.7638         \n",
       "         Detection Rate : 0.7207         \n",
       "   Detection Prevalence : 0.8211         \n",
       "      Balanced Accuracy : 0.7592         \n",
       "                                         \n",
       "       'Positive' Class : <=50K          \n",
       "                                         "
      ]
     },
     "metadata": {},
     "output_type": "display_data"
    }
   ],
   "source": [
    "p <- predict(modFit ,data_test)\n",
    "confusionMatrix(p, data_test$V15)"
   ]
  },
  {
   "cell_type": "code",
   "execution_count": 13,
   "metadata": {},
   "outputs": [
    {
     "data": {
      "text/plain": [
       "\n",
       "Call:\n",
       " randomForest(x = x, y = y, mtry = param$mtry) \n",
       "               Type of random forest: classification\n",
       "                     Number of trees: 500\n",
       "No. of variables tried at each split: 51\n",
       "\n",
       "        OOB estimate of  error rate: 14.07%\n",
       "Confusion matrix:\n",
       "      <=50K >50K class.error\n",
       "<=50K 23003 1717  0.06945793\n",
       ">50K   2865 4976  0.36538707"
      ]
     },
     "metadata": {},
     "output_type": "display_data"
    }
   ],
   "source": [
    "modFit$finalModel"
   ]
  },
  {
   "cell_type": "code",
   "execution_count": null,
   "metadata": {
    "collapsed": true
   },
   "outputs": [],
   "source": []
  }
 ],
 "metadata": {
  "kernelspec": {
   "display_name": "R",
   "language": "R",
   "name": "ir"
  },
  "language_info": {
   "codemirror_mode": "r",
   "file_extension": ".r",
   "mimetype": "text/x-r-source",
   "name": "R",
   "pygments_lexer": "r",
   "version": "3.4.2"
  }
 },
 "nbformat": 4,
 "nbformat_minor": 2
}
